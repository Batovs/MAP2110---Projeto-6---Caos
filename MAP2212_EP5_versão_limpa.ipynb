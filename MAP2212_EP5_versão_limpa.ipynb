{
  "nbformat": 4,
  "nbformat_minor": 0,
  "metadata": {
    "colab": {
      "name": "MAP2212 - EP5 versão limpa",
      "provenance": [],
      "authorship_tag": "ABX9TyNee3B6pRbLPpjFxtMFca/X",
      "include_colab_link": true
    },
    "kernelspec": {
      "name": "python3",
      "display_name": "Python 3"
    },
    "language_info": {
      "name": "python"
    }
  },
  "cells": [
    {
      "cell_type": "markdown",
      "metadata": {
        "id": "view-in-github",
        "colab_type": "text"
      },
      "source": [
        "<a href=\"https://colab.research.google.com/github/Batovs/MAP2110---Projeto-6---Caos/blob/main/MAP2212_EP5_vers%C3%A3o_limpa.ipynb\" target=\"_parent\"><img src=\"https://colab.research.google.com/assets/colab-badge.svg\" alt=\"Open In Colab\"/></a>"
      ]
    },
    {
      "cell_type": "code",
      "execution_count": 1,
      "metadata": {
        "id": "QuqSvBo3823K"
      },
      "outputs": [],
      "source": [
        "#Bibliotecas\n",
        "import random\n",
        "import numpy as np\n",
        "import matplotlib.pyplot as plt\n",
        "from scipy.special import gamma"
      ]
    },
    {
      "cell_type": "code",
      "source": [
        "#INFO da dupla\n",
        "INFO = {5381328:\"Nikolas Lukin\",11811012:\"Vinícius Collaço\"}\n",
        "\n",
        "class Estimador:\n",
        "  \"\"\"\n",
        "  Classe para criar o objeto, ele recebe valores para os vetores x e y.\n",
        "  Os metodos definidos abaixo serao utilizadas por um corretor automatico. \n",
        "  Portanto, precisa manter os outputs e inputs dos 2 metodos abaixo. \n",
        "  \"\"\"\n",
        "  def __init__(self,x,y):\n",
        "    \"\"\"\n",
        "    Inicializador do objeto. Este metodo recebe \n",
        "    valores pros vetores x e y em formato de lista \n",
        "    e implementa no objeto. \n",
        "    \"\"\"\n",
        "    \n",
        "    self.vetor_x = np.array(x) #formato: [0,0,0] - List cujo len(x) = 3\n",
        "    self.vetor_y = np.array(y) #formato: [0,0,0] - List cujo len(y) = 3\n",
        "\n",
        "    self.alpha = self.vetor_x + self.vetor_y\n",
        "    self.n = 3900000 #15366400 #Definido no relatorio\n",
        "    self.queima = 1000 #1000\n",
        "    self.k = 2000 #Numero de bins definido no relatorio\n",
        "\n",
        "    #calcula a constante de normalização\n",
        "    beta = (np.prod(gamma(self.alpha))) / (gamma(sum(self.alpha)))\n",
        "    self.const_norm = 1/beta\n",
        "\n",
        "    self.covariancia = self.matriz_de_covariancia()\n",
        "    c = 2.38**2/2\n",
        "    self.M_cov_reduzida = self.covariancia[:2, :2]*c\n",
        "\n",
        "    self.potenciais = self.amostra_MCMC(self.vetor_x, self.vetor_y, self.n)\n",
        "    self.f_ordenada = self.f_norm_ord()\n",
        "    self.f_min = self.f_ordenada[0]\n",
        "    self.f_max = self.f_ordenada[-1]\n",
        "    self.f_bins = self.f_bins()\n",
        "\n",
        "  def matriz_de_covariancia(self):\n",
        "    \"\"\"\n",
        "    Funcao que gera a matriz de covariancia sigma, \n",
        "    com base na variancia e covariancia da \n",
        "    https://en.wikipedia.org/wiki/Dirichlet_distribution\n",
        "    \"\"\"\n",
        "    size = len(self.alpha)\n",
        "    M_sigma = np.identity(size)\n",
        "    a_0 = sum(self.alpha)\n",
        "      \n",
        "    for i in range(size):\n",
        "      for j in range(size):\n",
        "        if i == j:#Variancia da Dirichilet            \n",
        "          M_sigma[i][j] = (a_0 - self.alpha[i])*self.alpha[i]/((a_0**2)*(a_0 + 1))            \n",
        "        else:#Covariancia da Dirichilet\n",
        "          M_sigma[i][j] = -1*self.alpha[i]*self.alpha[j]/((a_0**2)*(a_0 + 1))   \n",
        "    \n",
        "    return M_sigma\n",
        "\n",
        "  def gera_candidato(self, atual):\n",
        "    \"\"\"metodo para gerar um ponto candidato no simplex\"\"\"\n",
        "    while True:\n",
        "      passo = np.random.multivariate_normal([0, 0], self.M_cov_reduzida)\n",
        "      candidato = ([atual[0] + passo[0],\n",
        "                    atual[1] + passo[1],\n",
        "                    1 - (atual[0] + passo[0] + atual[1] + passo[1])]\n",
        "                  )\n",
        "      if all(i > 0 for i in candidato) > 0:\n",
        "        return candidato\n",
        "  \n",
        "  def f_theta(self,theta):\n",
        "    \"\"\"metodo para calcular o potencial de f(theta)\"\"\"\n",
        "    f = np.prod(np.power(theta, self.alpha - 1))\n",
        "    return f\n",
        "  \n",
        "  def amostra_MCMC(self,x,y,n):\n",
        "    \"\"\"\n",
        "    Funcao que recebe valores pros vetores x e y, o tamanho n da amostra, \n",
        "    gera uma amostra de tamanho n a partir do metodo de monte carlo via \n",
        "    cadeias de markov, onde cada elemento da amostra tem tamanho 3 (vetor),\n",
        "    e retorna uma lista de tamanho n com os potenciais de cada ponto obtido,\n",
        "    onde cada elemento tem tamanho 1 (escalar).\n",
        "    \n",
        "    Nao utilize a fuancao densidade de probabilidade, apenas a funcao potencial!\n",
        "    \"\"\"\n",
        "    amostras = [[1/3, 1/3, 1/3]] #ponto inicial, centro do simplex\n",
        "    alpha = np.array(x) + np.array(y)\n",
        "\n",
        "    for _ in range(n + self.queima):\n",
        "      candidato = self.gera_candidato(amostras[-1])\n",
        "\n",
        "      #probabilidade de aceitacao\n",
        "      prob = min(1, self.f_theta(candidato) / self.f_theta(amostras[-1]))\n",
        "\n",
        "      #aceita com a probabilidade calculada\n",
        "      if np.random.random() < prob:\n",
        "        amostras.append(candidato)  \n",
        "      else:\n",
        "        amostras.append(amostras[-1])\n",
        "\n",
        "    amostra_de_potenciais = np.prod(np.power(np.array(amostras), alpha - 1), axis=1)\n",
        "    return amostra_de_potenciais[self.queima+1:] # Exemplo do formato = [0.04867, 0.00236, 0.00014 ... ]\n",
        "\n",
        "  def f_norm_ord(self):\n",
        "    \"\"\"metodo para normalizar e ordenar a potencial gerada da cadeia de Markov\"\"\"\n",
        "    f = self.potenciais\n",
        "    f.sort()\n",
        "    f_normalizada = f*self.const_norm\n",
        "\n",
        "    return f_normalizada\n",
        "  \n",
        "  def f_bins(self):\n",
        "    \"\"\"metodo para separar a f em bins\"\"\"\n",
        "\n",
        "    f_normalizada = self.f_ordenada\n",
        "    f_bins = [0]*self.k\n",
        "\n",
        "    #Separa em bins com uma quantidade constante de pontos cada bin\n",
        "    passo = int(self.n/self.k)\n",
        "\n",
        "    for i in range (0,self.k):\n",
        "        f_bins[i] = f_normalizada[i*passo]\n",
        "\n",
        "    return f_bins\n",
        "  \n",
        "  def U(self,v):\n",
        "    \"\"\"\n",
        "    Este metodo recebe um valor para v e, a partir dele, retorna U(v|x,y) \n",
        "    a partir dos vetores x e y inicializados anteriormente\n",
        "    \"\"\"\n",
        "    f_ordenado = self.f_bins\n",
        "\n",
        "    if v > self.f_max:\n",
        "      return 1\n",
        "    if v < self.f_min:\n",
        "      return 0  \n",
        "\n",
        "    # numero de bins abaixo de um certo v\n",
        "    menor_que_v = np.searchsorted(f_ordenado, v, side='left')\n",
        "    u = menor_que_v/self.k\n",
        "\n",
        "    return u    "
      ],
      "metadata": {
        "id": "MwBp69Og88ai"
      },
      "execution_count": 188,
      "outputs": []
    },
    {
      "cell_type": "code",
      "source": [
        "def main():\n",
        "    #Coloque seus testes aqui\n",
        "    x = [1,2,3]\n",
        "    y = [2,4,6]\n",
        "    estimativa = Estimador(x,y) \n",
        "    print(\"Segue um exemplo de funcionamento:\")\n",
        "    print(\"x =\",x,\"e y =\",y)\n",
        "    for i in range (int(estimativa.f_max + 2)):\n",
        "      print(\"U(\",i,\") = \", estimativa.U(i))\n",
        "    print(\"Este exemmplo foi feito para demonstrar o funcionamento esperado do objeto\")\n",
        "\n",
        "    #Plotando U(v)\n",
        "    v = np.arange (-2,estimativa.f_max+3,0.05)\n",
        "    probabilidade_acumulada = [estimativa.U(i) for i in v]\n",
        "    \n",
        "    fig, ax = plt.subplots(figsize=(6,6))\n",
        "    ax.plot(v,probabilidade_acumulada,color='r')\n",
        "    ax.set(xlabel='v', ylabel='Probabilidade Acumulada',\n",
        "           title='Exemplo da Integral Condensada com x = [4,6,4] e y = [1,2,3]')\n",
        "    plt.axis([-1.5, estimativa.f_max+2, -0.05, 1.1])\n",
        "     \n",
        "    ax.grid()\n",
        "    plt.show()\n",
        "    fig.savefig('Integral.png')\n",
        "\n",
        "if __name__ == \"__main__\":\n",
        "    main()"
      ],
      "metadata": {
        "colab": {
          "base_uri": "https://localhost:8080/",
          "height": 786
        },
        "id": "nrcPe_M6SGkA",
        "outputId": "4361c95a-b307-416b-c414-470060873c75"
      },
      "execution_count": 189,
      "outputs": [
        {
          "output_type": "stream",
          "name": "stdout",
          "text": [
            "Segue um exemplo de funcionamento:\n",
            "x = [1, 2, 3] e y = [2, 4, 6]\n",
            "U( 0 ) =  0\n",
            "U( 1 ) =  0.0365\n",
            "U( 2 ) =  0.081\n",
            "U( 3 ) =  0.129\n",
            "U( 4 ) =  0.18\n",
            "U( 5 ) =  0.233\n",
            "U( 6 ) =  0.288\n",
            "U( 7 ) =  0.344\n",
            "U( 8 ) =  0.401\n",
            "U( 9 ) =  0.46\n",
            "U( 10 ) =  0.5195\n",
            "U( 11 ) =  0.5805\n",
            "U( 12 ) =  0.642\n",
            "U( 13 ) =  0.705\n",
            "U( 14 ) =  0.768\n",
            "U( 15 ) =  0.8315\n",
            "U( 16 ) =  0.896\n",
            "U( 17 ) =  0.9605\n",
            "U( 18 ) =  1\n",
            "Este exemmplo foi feito para demonstrar o funcionamento esperado do objeto\n"
          ]
        },
        {
          "output_type": "display_data",
          "data": {
            "text/plain": [
              "<Figure size 432x432 with 1 Axes>"
            ],
            "image/png": "[encoded data removed]"
          },
          "metadata": {
            "needs_background": "light"
          }
        }
      ]
    },
    {
      "cell_type": "code",
      "source": [
        ""
      ],
      "metadata": {
        "id": "Y5-B-DInfpWg"
      },
      "execution_count": null,
      "outputs": []
    }
  ]
}